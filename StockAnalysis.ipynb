{
 "cells": [
  {
   "cell_type": "markdown",
   "metadata": {},
   "source": [
    "<center>\n",
    "    <img src=\"https://cf-courses-data.s3.us.cloud-object-storage.appdomain.cloud/IBMDeveloperSkillsNetwork-DS0105EN-SkillsNetwork/labs/Module2/images/SN_web_lightmode.png\" width=\"300\" alt=\"cognitiveclass.ai logo\">\n",
    "</center>\n"
   ]
  },
  {
   "cell_type": "markdown",
   "metadata": {},
   "source": [
    "#### Add your code below following the instructions given in the course\n"
   ]
  },
  {
   "cell_type": "markdown",
   "metadata": {},
   "source": [
    "# Final Data Science Notebook\n"
   ]
  },
  {
   "cell_type": "markdown",
   "metadata": {},
   "source": [
    "Welcome to the final assignment of this data science course.  \n",
    "In this notebook, we will cover essential topics such as:\n",
    "\n",
    "- Data science languages  \n",
    "- Data science libraries  \n",
    "- Data science tools  \n",
    "- Basic arithmetic expressions using code  \n"
   ]
  },
  {
   "cell_type": "markdown",
   "metadata": {},
   "source": [
    "## Data Science Languages\n",
    "\n",
    "Here are some of the most commonly used languages in the field of data science:\n",
    "\n",
    "1. Python  \n",
    "2. R  \n",
    "3. SQL  \n",
    "4. Julia  \n",
    "5. Scala  \n"
   ]
  },
  {
   "cell_type": "markdown",
   "metadata": {},
   "source": [
    "## Data Science Libraries\n",
    "\n",
    "Popular libraries used in data science include:\n",
    "\n",
    "- Pandas  \n",
    "- NumPy  \n",
    "- Matplotlib  \n",
    "- Seaborn  \n",
    "- Scikit-learn  \n",
    "- TensorFlow  \n",
    "- Keras  \n",
    "- PyTorch  \n"
   ]
  },
  {
   "cell_type": "markdown",
   "metadata": {},
   "source": [
    "## Data Science Tools\n",
    "\n",
    "| Tool Name       | Category            | Description                            |\n",
    "|------------------|----------------------|----------------------------------------|\n",
    "| Jupyter Notebook | IDE/Notebook Tool    | Used for creating and sharing documents |\n",
    "| RStudio          | IDE                  | Used for R programming and data analysis |\n",
    "| Apache Spark     | Big Data Framework   | Distributed processing system          |\n",
    "| TensorFlow       | Machine Learning     | Used for training ML models            |\n",
    "| RapidMiner       | Data Mining Tool     | GUI-based data science tool            |\n"
   ]
  },
  {
   "cell_type": "markdown",
   "metadata": {},
   "source": [
    "## Arithmetic Expressions in Python\n",
    "\n",
    "Below is an example of a simple arithmetic expression that performs multiplication and addition.\n"
   ]
  },
  {
   "cell_type": "code",
   "execution_count": 6,
   "metadata": {},
   "outputs": [
    {
     "data": {
      "text/plain": [
       "30"
      ]
     },
     "execution_count": 6,
     "metadata": {},
     "output_type": "execute_result"
    }
   ],
   "source": [
    "# This code multiplies and adds two numbers\n",
    "result = (5 * 4) + 10\n",
    "result\n"
   ]
  },
  {
   "cell_type": "code",
   "execution_count": 7,
   "metadata": {},
   "outputs": [
    {
     "data": {
      "text/plain": [
       "3.3333333333333335"
      ]
     },
     "execution_count": 7,
     "metadata": {},
     "output_type": "execute_result"
    }
   ],
   "source": [
    "# This code converts 200 minutes into hours\n",
    "minutes = 200\n",
    "hours = minutes / 60\n",
    "hours\n"
   ]
  },
  {
   "cell_type": "markdown",
   "metadata": {},
   "source": [
    "## Objectives\n",
    "\n",
    "In this notebook, we will:\n",
    "\n",
    "- Identify popular data science languages  \n",
    "- List commonly used libraries in data science  \n",
    "- Present tools using a table format  \n",
    "- Show simple arithmetic expressions  \n",
    "- Convert time units using Python code  \n",
    "- Share our work publicly via GitHub  \n"
   ]
  },
  {
   "cell_type": "markdown",
   "metadata": {},
   "source": [
    "**Author:** Omprakash Sahoo\n"
   ]
  },
  {
   "cell_type": "code",
   "execution_count": null,
   "metadata": {},
   "outputs": [],
   "source": []
  }
 ],
 "metadata": {
  "kernelspec": {
   "display_name": "Python 3 (ipykernel)",
   "language": "python",
   "name": "python3"
  },
  "language_info": {
   "codemirror_mode": {
    "name": "ipython",
    "version": 3
   },
   "file_extension": ".py",
   "mimetype": "text/x-python",
   "name": "python",
   "nbconvert_exporter": "python",
   "pygments_lexer": "ipython3",
   "version": "3.12.8"
  }
 },
 "nbformat": 4,
 "nbformat_minor": 4
}
